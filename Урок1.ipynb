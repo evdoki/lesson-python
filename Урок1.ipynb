{
 "cells": [
  {
   "cell_type": "markdown",
   "id": "f35c24a6",
   "metadata": {},
   "source": [
    "Python - (в русском языке встречаются названия пито́н или па́йтон) — высокоуровневый язык программирования общего назначения с динамической строгой типизацией и автоматическим управлением памятью, ориентированный на повышение производительности разработчика, читаемости кода и его качества, а также на обеспечение переносимости написанных на нём программ. Язык является полностью объектно-ориентированным в том плане, что всё является объектами."
   ]
  },
  {
   "cell_type": "code",
   "execution_count": 6,
   "id": "8d9db60d",
   "metadata": {},
   "outputs": [
    {
     "name": "stdout",
     "output_type": "stream",
     "text": [
      "Тип данных:  <class 'int'> \n",
      "Тип данных:  <class 'float'>\n"
     ]
    }
   ],
   "source": [
    "#типы данных\n",
    "#Numbers (числа)\n",
    "number1 = 1\n",
    "number2 = 1.1\n",
    "print('Тип данных: ',type(number1),'\\nТип данных: ',type(number2))"
   ]
  },
  {
   "cell_type": "code",
   "execution_count": 27,
   "id": "b07629de",
   "metadata": {},
   "outputs": [
    {
     "name": "stdout",
     "output_type": "stream",
     "text": [
      "Вася, Ксюша  - тип данных  <class 'str'> \n",
      " 12345  - тип данных  <class 'str'>\n"
     ]
    }
   ],
   "source": [
    "#Strings (строки)\n",
    "string1 = 'Вася, Ксюша'\n",
    "string2 = \"12345\"\n",
    "print(string1,' - тип данных ',type(string1),'\\n',string2,' - тип данных ',type(string2))"
   ]
  },
  {
   "cell_type": "code",
   "execution_count": 28,
   "id": "dbee3fda",
   "metadata": {},
   "outputs": [
    {
     "name": "stdout",
     "output_type": "stream",
     "text": [
      "Тип данных:  <class 'list'> \n",
      "Тип данных:  <class 'list'>\n",
      "\n",
      " ['Ксюша', 'Вася', 'Настя'] \n",
      " [1, 1.0, 2.0, 45]\n"
     ]
    }
   ],
   "source": [
    "#Lists (списки)\n",
    "list1 = ['Ксюша','Вася','Настя']\n",
    "list2 = [1, 1.0, 2., 45]\n",
    "print('Тип данных: ',type(list1),'\\nТип данных: ',type(list2))\n",
    "print('\\n',list1,'\\n',list2)"
   ]
  },
  {
   "cell_type": "code",
   "execution_count": 29,
   "id": "8d20d93e",
   "metadata": {},
   "outputs": [
    {
     "name": "stdout",
     "output_type": "stream",
     "text": [
      "{'Вася': 10, 'Ксюша': 12, 'Настя': 21} \n",
      "Тип данных:  <class 'dict'>\n"
     ]
    }
   ],
   "source": [
    "#Dictionaries (словари)\n",
    "dict1 = {'Вася': 10, 'Ксюша': 12,'Настя': 21}\n",
    "print(dict1, '\\nТип данных: ',type(dict1))"
   ]
  },
  {
   "cell_type": "code",
   "execution_count": 33,
   "id": "afe74ce2",
   "metadata": {},
   "outputs": [
    {
     "name": "stdout",
     "output_type": "stream",
     "text": [
      "('H', 'e', 'l', 'l', 'o', ' ', 'w', 'o', 'r', 'l', 'd')  - тип данных  <class 'tuple'> \n",
      " (1, 2, 3, 4, 5)  - тип данных  <class 'tuple'>\n",
      "\n",
      " Hello world  - тип данных  <class 'str'>\n"
     ]
    }
   ],
   "source": [
    "#Tuples (кортежи)\n",
    "tuple1 = tuple('Hello world')\n",
    "tuple2 = (1, 2, 3, 4, 5)\n",
    "print(tuple1,' - тип данных ',type(tuple1),'\\n',tuple2,' - тип данных ',type(tuple2))\n",
    "tupl = ('Hello world')\n",
    "print('\\n',tupl,' - тип данных ',type(tupl))"
   ]
  },
  {
   "cell_type": "code",
   "execution_count": 31,
   "id": "b1c78b93",
   "metadata": {},
   "outputs": [
    {
     "name": "stdout",
     "output_type": "stream",
     "text": [
      "(1, 2, 3, 1, 2, 3, 4, 5)  - тип данных  <class 'tuple'> \n",
      " {' ', 'e', 'H', 'o', 'r', 'w', 'd', 'l'}  - тип данных  <class 'set'>\n"
     ]
    }
   ],
   "source": [
    "#Sets (множества)\n",
    "set1 = (1,2,3,1,2,3,4,5)\n",
    "set2 = set('Hello world')\n",
    "print(set1,' - тип данных ',type(set1),'\\n',set2,' - тип данных ',type(set2))"
   ]
  },
  {
   "cell_type": "code",
   "execution_count": 32,
   "id": "71bc64cf",
   "metadata": {},
   "outputs": [
    {
     "name": "stdout",
     "output_type": "stream",
     "text": [
      "True  - тип данных  <class 'bool'> \n",
      " False  - тип данных  <class 'bool'>\n"
     ]
    }
   ],
   "source": [
    "#Boolean (логический тип данных)\n",
    "bool1 = True\n",
    "bool2 = False\n",
    "print(bool1,' - тип данных ',type(bool1),'\\n',bool2,' - тип данных ',type(bool2))"
   ]
  },
  {
   "cell_type": "markdown",
   "id": "df66bc7d",
   "metadata": {},
   "source": [
    "Поговорим о вводе и выводе данных:"
   ]
  },
  {
   "cell_type": "code",
   "execution_count": 34,
   "id": "bf5bb70d",
   "metadata": {},
   "outputs": [
    {
     "name": "stdout",
     "output_type": "stream",
     "text": [
      "123 \n",
      "Hello world\n"
     ]
    }
   ],
   "source": [
    "#print (вывод)\n",
    "print(123,'\\nHello world')"
   ]
  },
  {
   "cell_type": "code",
   "execution_count": 35,
   "id": "11c18e1d",
   "metadata": {},
   "outputs": [
    {
     "name": "stdout",
     "output_type": "stream",
     "text": [
      "312303199\n",
      "<class 'str'>\n"
     ]
    }
   ],
   "source": [
    "#input (ввод)\n",
    "sample = input()\n",
    "print(type(sample))"
   ]
  },
  {
   "cell_type": "code",
   "execution_count": 37,
   "id": "2ff4a6c2",
   "metadata": {},
   "outputs": [
    {
     "name": "stdout",
     "output_type": "stream",
     "text": [
      "Введите целове число: -23\n",
      "<class 'int'>  - тип данных,  -23\n"
     ]
    }
   ],
   "source": [
    "sample1 = int(input('Введите целове число: '))\n",
    "print(type(sample1),' - тип данных, ', sample1)"
   ]
  },
  {
   "cell_type": "code",
   "execution_count": 39,
   "id": "cc2b21ec",
   "metadata": {},
   "outputs": [
    {
     "name": "stdout",
     "output_type": "stream",
     "text": [
      "Введите число: -32.12\n",
      "<class 'float'>  - тип данных,  -32.12\n"
     ]
    }
   ],
   "source": [
    "sample2 = float(input('Введите число: '))\n",
    "print(type(sample2),' - тип данных, ', sample2)"
   ]
  },
  {
   "cell_type": "code",
   "execution_count": 42,
   "id": "c3d61f58",
   "metadata": {},
   "outputs": [
    {
     "name": "stdout",
     "output_type": "stream",
     "text": [
      "Введите два целых числа: 1 2\n",
      "1 2\n"
     ]
    }
   ],
   "source": [
    "sample3, sample4 = map(int, input('Введите два целых числа: ').split())\n",
    "print(sample3, sample4)"
   ]
  },
  {
   "cell_type": "raw",
   "id": "9cdf12a1",
   "metadata": {},
   "source": [
    "Операции сложения, умножения, деления и вычитания"
   ]
  },
  {
   "cell_type": "code",
   "execution_count": 48,
   "id": "58bc3ba8",
   "metadata": {},
   "outputs": [
    {
     "name": "stdout",
     "output_type": "stream",
     "text": [
      "Сумма  10 \n",
      "Умножение  16 \n",
      "Деление 3.3333333333333335 3 1 \n",
      "Вычитание  6\n"
     ]
    }
   ],
   "source": [
    "num1 = 8\n",
    "num2 = 2\n",
    "summ = num1 + num2\n",
    "proiz = num1 * num2\n",
    "delen1 = 10 / 3\n",
    "delen2 = 10 // 3\n",
    "delen3 = 10 % 3\n",
    "vich = num1 - num2\n",
    "print('Сумма ',summ,'\\nУмножение ',proiz,'\\nДеление',delen1,delen2,delen3,'\\nВычитание ',vich)"
   ]
  },
  {
   "cell_type": "markdown",
   "id": "2982136a",
   "metadata": {},
   "source": [
    "Имена переменных"
   ]
  },
  {
   "cell_type": "code",
   "execution_count": null,
   "id": "1d61d158",
   "metadata": {},
   "outputs": [],
   "source": []
  }
 ],
 "metadata": {
  "kernelspec": {
   "display_name": "Python 3 (ipykernel)",
   "language": "python",
   "name": "python3"
  },
  "language_info": {
   "codemirror_mode": {
    "name": "ipython",
    "version": 3
   },
   "file_extension": ".py",
   "mimetype": "text/x-python",
   "name": "python",
   "nbconvert_exporter": "python",
   "pygments_lexer": "ipython3",
   "version": "3.9.12"
  }
 },
 "nbformat": 4,
 "nbformat_minor": 5
}
