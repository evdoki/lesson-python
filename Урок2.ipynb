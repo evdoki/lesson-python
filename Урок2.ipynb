{
 "cells": [
  {
   "cell_type": "markdown",
   "id": "289c4862",
   "metadata": {},
   "source": [
    "Циклы и условные операторы"
   ]
  },
  {
   "cell_type": "markdown",
   "id": "6c9d8673",
   "metadata": {},
   "source": [
    "#if\n",
    "if условие:\n",
    "    какое-то действие1\n",
    "else:\n",
    "    какое-то действие2\n",
    "    \n",
    "    \n",
    "    \n",
    "if условие1:\n",
    "    какое-то действие1\n",
    "elif условие2:\n",
    "    какое-то действие2\n",
    "else:\n",
    "    какое-то действие3"
   ]
  },
  {
   "cell_type": "code",
   "execution_count": 7,
   "id": "2ad87213",
   "metadata": {},
   "outputs": [
    {
     "name": "stdout",
     "output_type": "stream",
     "text": [
      "Введите целое число 10\n",
      "10  делится на 2 без остатка\n"
     ]
    }
   ],
   "source": [
    "num = int(input('Введите целое число '))\n",
    "\n",
    "if num % 4 == 0:\n",
    "    print(num,' делится на 4 без остатка')\n",
    "    \n",
    "elif num % 2 == 0:\n",
    "    print(num,' делится на 2 без остатка')\n",
    "    \n",
    "else:\n",
    "    print('Число не делится на 2 и 4')"
   ]
  },
  {
   "cell_type": "code",
   "execution_count": 13,
   "id": "f9e7e9a5",
   "metadata": {},
   "outputs": [
    {
     "name": "stdout",
     "output_type": "stream",
     "text": [
      "Введите что-нибудь ewfsg\n",
      "ewfsg\n"
     ]
    }
   ],
   "source": [
    "num = input('Введите что-нибудь ')\n",
    "\n",
    "if num != True:\n",
    "    print(num)\n",
    "else:\n",
    "    print('Nothing')\n"
   ]
  },
  {
   "cell_type": "code",
   "execution_count": 17,
   "id": "225413d7",
   "metadata": {},
   "outputs": [
    {
     "name": "stdout",
     "output_type": "stream",
     "text": [
      "Это правда\n"
     ]
    }
   ],
   "source": [
    "if True:\n",
    "    print('Это правда')\n",
    "else:\n",
    "    print('Это не правда')"
   ]
  },
  {
   "cell_type": "code",
   "execution_count": 18,
   "id": "323c5bb7",
   "metadata": {},
   "outputs": [
    {
     "name": "stdout",
     "output_type": "stream",
     "text": [
      "True\n"
     ]
    }
   ],
   "source": [
    "if 2 == 2.0:\n",
    "    print('True')\n",
    "else:\n",
    "    print('False')"
   ]
  },
  {
   "cell_type": "code",
   "execution_count": 19,
   "id": "01a843da",
   "metadata": {},
   "outputs": [
    {
     "name": "stdout",
     "output_type": "stream",
     "text": [
      "False\n"
     ]
    }
   ],
   "source": [
    "if '2' == 2.0:\n",
    "    print('True')\n",
    "else:\n",
    "    print('False')"
   ]
  },
  {
   "cell_type": "markdown",
   "id": "25da8bd4",
   "metadata": {},
   "source": [
    "while условие:\n",
    "    действие    "
   ]
  },
  {
   "cell_type": "code",
   "execution_count": 22,
   "id": "117a085a",
   "metadata": {},
   "outputs": [
    {
     "name": "stdout",
     "output_type": "stream",
     "text": [
      "10\n",
      "5\n"
     ]
    }
   ],
   "source": [
    "sample = int(input())\n",
    "i = 0 #количество раз когда мы пробежались по циклу\n",
    "while sample > 0:\n",
    "    i += 1 #счетчик\n",
    "    if sample % 2 == 0:\n",
    "        sample //= 2 #sample = sample / 2\n",
    "    else:\n",
    "        sample -= 1 #sample = sample - 1\n",
    "        \n",
    "print(i)"
   ]
  },
  {
   "cell_type": "code",
   "execution_count": 1,
   "id": "55f10e75",
   "metadata": {},
   "outputs": [
    {
     "name": "stdout",
     "output_type": "stream",
     "text": [
      "1\n",
      "-1\n"
     ]
    }
   ],
   "source": [
    "sam = int(input())\n",
    "\n",
    "while True:\n",
    "    sam -= 1\n",
    "    if sam < 0:\n",
    "        break\n",
    "print(sam)"
   ]
  },
  {
   "cell_type": "markdown",
   "id": "99309959",
   "metadata": {},
   "source": [
    "цикл for\n",
    "for переменная in последовательность:\n",
    "    действие"
   ]
  },
  {
   "cell_type": "code",
   "execution_count": 5,
   "id": "7a9bfde9",
   "metadata": {},
   "outputs": [
    {
     "name": "stdout",
     "output_type": "stream",
     "text": [
      "1\n",
      "(1, 23, 0)\n",
      "1.1\n",
      "Hello\n",
      "{1: 'яблоко', 2: 'груша', 3: 'апельсин'}\n",
      "[]\n"
     ]
    }
   ],
   "source": [
    "list = [1, (1,23,0), 1.1, 'Hello', {1: 'яблоко',2: 'груша',3: 'апельсин'}, []]\n",
    "for i in list:\n",
    "    print(i)"
   ]
  },
  {
   "cell_type": "code",
   "execution_count": 8,
   "id": "dfecf0e4",
   "metadata": {},
   "outputs": [
    {
     "name": "stdout",
     "output_type": "stream",
     "text": [
      "aaa\n",
      "2\n",
      "3\n",
      "4\n",
      "orange\n",
      "6\n",
      "7\n",
      "xxx\n",
      "9\n"
     ]
    }
   ],
   "source": [
    "masiv = [['aaa',2,3],[4,'orange',6],[7,'xxx',9]]\n",
    "for i in masiv:\n",
    "    #print(i)\n",
    "    for j in i:\n",
    "        print(j)"
   ]
  },
  {
   "cell_type": "code",
   "execution_count": 9,
   "id": "b1efa3a1",
   "metadata": {},
   "outputs": [
    {
     "name": "stdout",
     "output_type": "stream",
     "text": [
      "Номер элемента в списке  0  - элемент  blue\n",
      "Номер элемента в списке  1  - элемент  orange\n",
      "Номер элемента в списке  2  - элемент  black\n",
      "Номер элемента в списке  3  - элемент  white\n"
     ]
    }
   ],
   "source": [
    "list1 = ['blue','orange','black','white']\n",
    "for i,j in enumerate(list1):\n",
    "    print('Номер элемента в списке ',i,' - элемент ',j)"
   ]
  },
  {
   "cell_type": "code",
   "execution_count": 10,
   "id": "7f524b70",
   "metadata": {},
   "outputs": [
    {
     "name": "stdout",
     "output_type": "stream",
     "text": [
      "Элемент списка с его порядовым номером в списке  (0, 'blue')\n",
      "Элемент списка с его порядовым номером в списке  (1, 'orange')\n",
      "Элемент списка с его порядовым номером в списке  (2, 'black')\n",
      "Элемент списка с его порядовым номером в списке  (3, 'white')\n",
      "\n",
      " <class 'tuple'>\n"
     ]
    }
   ],
   "source": [
    "list1 = ['blue','orange','black','white']\n",
    "for i in enumerate(list1):\n",
    "    print('Элемент списка с его порядовым номером в списке ',i)\n",
    "print('\\n',type(i))"
   ]
  },
  {
   "cell_type": "markdown",
   "id": "5b6dcc51",
   "metadata": {},
   "source": [
    "Задание:\n",
    "1) Написать программу, которая суммирует четные вводимые числа и заканчивается тогда, когда пользователь введет 0 (while)\n",
    "2) Написать программу, которая высчитывает сумму элементов матрицы (можно задать руками) (for)"
   ]
  },
  {
   "cell_type": "code",
   "execution_count": null,
   "id": "73b406a0",
   "metadata": {},
   "outputs": [],
   "source": []
  }
 ],
 "metadata": {
  "kernelspec": {
   "display_name": "Python 3 (ipykernel)",
   "language": "python",
   "name": "python3"
  },
  "language_info": {
   "codemirror_mode": {
    "name": "ipython",
    "version": 3
   },
   "file_extension": ".py",
   "mimetype": "text/x-python",
   "name": "python",
   "nbconvert_exporter": "python",
   "pygments_lexer": "ipython3",
   "version": "3.9.12"
  }
 },
 "nbformat": 4,
 "nbformat_minor": 5
}
